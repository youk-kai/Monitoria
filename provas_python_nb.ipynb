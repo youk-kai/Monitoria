{
 "cells": [
  {
   "cell_type": "code",
   "execution_count": 2,
   "metadata": {
    "collapsed": true
   },
   "outputs": [],
   "source": [
    "import pandas as pd, matplotlib.pyplot as plt\n",
    "%matplotlib inline\n",
    "import seaborn as sns"
   ]
  },
  {
   "cell_type": "code",
   "execution_count": 3,
   "metadata": {},
   "outputs": [
    {
     "data": {
      "text/html": [
       "<div>\n",
       "<style scoped>\n",
       "    .dataframe tbody tr th:only-of-type {\n",
       "        vertical-align: middle;\n",
       "    }\n",
       "\n",
       "    .dataframe tbody tr th {\n",
       "        vertical-align: top;\n",
       "    }\n",
       "\n",
       "    .dataframe thead th {\n",
       "        text-align: right;\n",
       "    }\n",
       "</style>\n",
       "<table border=\"1\" class=\"dataframe\">\n",
       "  <thead>\n",
       "    <tr style=\"text-align: right;\">\n",
       "      <th></th>\n",
       "      <th>DRE</th>\n",
       "      <th>Teste</th>\n",
       "      <th>P1</th>\n",
       "      <th>P1_com_teste</th>\n",
       "      <th>P1_sem_teste</th>\n",
       "      <th>P1_maior_nota</th>\n",
       "      <th>P2</th>\n",
       "      <th>MF</th>\n",
       "      <th>sit</th>\n",
       "    </tr>\n",
       "  </thead>\n",
       "  <tbody>\n",
       "    <tr>\n",
       "      <th>0</th>\n",
       "      <td>116078290</td>\n",
       "      <td>3.0</td>\n",
       "      <td>4.1</td>\n",
       "      <td>7.1</td>\n",
       "      <td>5.125</td>\n",
       "      <td>7.1</td>\n",
       "      <td>4.0</td>\n",
       "      <td>5.55</td>\n",
       "      <td>Prova Final</td>\n",
       "    </tr>\n",
       "    <tr>\n",
       "      <th>1</th>\n",
       "      <td>118168669</td>\n",
       "      <td>2.6</td>\n",
       "      <td>5.6</td>\n",
       "      <td>8.2</td>\n",
       "      <td>7.000</td>\n",
       "      <td>8.2</td>\n",
       "      <td>6.6</td>\n",
       "      <td>7.40</td>\n",
       "      <td>Aprovado</td>\n",
       "    </tr>\n",
       "    <tr>\n",
       "      <th>2</th>\n",
       "      <td>118144843</td>\n",
       "      <td>3.0</td>\n",
       "      <td>4.8</td>\n",
       "      <td>7.8</td>\n",
       "      <td>6.000</td>\n",
       "      <td>7.8</td>\n",
       "      <td>7.9</td>\n",
       "      <td>7.85</td>\n",
       "      <td>Aprovado</td>\n",
       "    </tr>\n",
       "    <tr>\n",
       "      <th>3</th>\n",
       "      <td>118187663</td>\n",
       "      <td>2.5</td>\n",
       "      <td>5.2</td>\n",
       "      <td>7.7</td>\n",
       "      <td>6.500</td>\n",
       "      <td>7.7</td>\n",
       "      <td>8.2</td>\n",
       "      <td>7.95</td>\n",
       "      <td>Aprovado</td>\n",
       "    </tr>\n",
       "    <tr>\n",
       "      <th>4</th>\n",
       "      <td>118145297</td>\n",
       "      <td>1.3</td>\n",
       "      <td>2.9</td>\n",
       "      <td>4.2</td>\n",
       "      <td>3.625</td>\n",
       "      <td>4.2</td>\n",
       "      <td>5.3</td>\n",
       "      <td>4.75</td>\n",
       "      <td>Prova Final</td>\n",
       "    </tr>\n",
       "  </tbody>\n",
       "</table>\n",
       "</div>"
      ],
      "text/plain": [
       "         DRE  Teste   P1  P1_com_teste  P1_sem_teste  P1_maior_nota   P2  \\\n",
       "0  116078290    3.0  4.1           7.1         5.125            7.1  4.0   \n",
       "1  118168669    2.6  5.6           8.2         7.000            8.2  6.6   \n",
       "2  118144843    3.0  4.8           7.8         6.000            7.8  7.9   \n",
       "3  118187663    2.5  5.2           7.7         6.500            7.7  8.2   \n",
       "4  118145297    1.3  2.9           4.2         3.625            4.2  5.3   \n",
       "\n",
       "     MF          sit  \n",
       "0  5.55  Prova Final  \n",
       "1  7.40     Aprovado  \n",
       "2  7.85     Aprovado  \n",
       "3  7.95     Aprovado  \n",
       "4  4.75  Prova Final  "
      ]
     },
     "execution_count": 3,
     "metadata": {},
     "output_type": "execute_result"
    }
   ],
   "source": [
    "provas = pd.read_excel('provas.xlsx').reset_index().drop(columns={'level_0', 'level_1'})\n",
    "provas.head()"
   ]
  },
  {
   "cell_type": "markdown",
   "metadata": {},
   "source": [
    "A organização do dataframe é a acima. Não incluimos aqui a P3, ainda não realizada. Analisemos alguns de seus dados."
   ]
  },
  {
   "cell_type": "code",
   "execution_count": 4,
   "metadata": {},
   "outputs": [
    {
     "data": {
      "text/html": [
       "<div>\n",
       "<style scoped>\n",
       "    .dataframe tbody tr th:only-of-type {\n",
       "        vertical-align: middle;\n",
       "    }\n",
       "\n",
       "    .dataframe tbody tr th {\n",
       "        vertical-align: top;\n",
       "    }\n",
       "\n",
       "    .dataframe thead th {\n",
       "        text-align: right;\n",
       "    }\n",
       "</style>\n",
       "<table border=\"1\" class=\"dataframe\">\n",
       "  <thead>\n",
       "    <tr style=\"text-align: right;\">\n",
       "      <th></th>\n",
       "      <th>P1</th>\n",
       "      <th>P1_com_teste</th>\n",
       "      <th>P1_sem_teste</th>\n",
       "      <th>P1_maior_nota</th>\n",
       "      <th>P2</th>\n",
       "      <th>MF</th>\n",
       "    </tr>\n",
       "  </thead>\n",
       "  <tbody>\n",
       "    <tr>\n",
       "      <th>count</th>\n",
       "      <td>44.000000</td>\n",
       "      <td>71.000000</td>\n",
       "      <td>71.000000</td>\n",
       "      <td>71.000000</td>\n",
       "      <td>71.000000</td>\n",
       "      <td>71.000000</td>\n",
       "    </tr>\n",
       "    <tr>\n",
       "      <th>mean</th>\n",
       "      <td>4.568182</td>\n",
       "      <td>4.011268</td>\n",
       "      <td>3.538732</td>\n",
       "      <td>4.156338</td>\n",
       "      <td>2.512676</td>\n",
       "      <td>3.334507</td>\n",
       "    </tr>\n",
       "    <tr>\n",
       "      <th>std</th>\n",
       "      <td>1.840219</td>\n",
       "      <td>3.627929</td>\n",
       "      <td>3.323321</td>\n",
       "      <td>3.668636</td>\n",
       "      <td>3.208156</td>\n",
       "      <td>3.214442</td>\n",
       "    </tr>\n",
       "    <tr>\n",
       "      <th>min</th>\n",
       "      <td>0.000000</td>\n",
       "      <td>0.000000</td>\n",
       "      <td>0.000000</td>\n",
       "      <td>0.000000</td>\n",
       "      <td>0.000000</td>\n",
       "      <td>0.000000</td>\n",
       "    </tr>\n",
       "    <tr>\n",
       "      <th>25%</th>\n",
       "      <td>3.550000</td>\n",
       "      <td>0.000000</td>\n",
       "      <td>0.000000</td>\n",
       "      <td>0.000000</td>\n",
       "      <td>0.000000</td>\n",
       "      <td>0.000000</td>\n",
       "    </tr>\n",
       "    <tr>\n",
       "      <th>50%</th>\n",
       "      <td>4.950000</td>\n",
       "      <td>3.600000</td>\n",
       "      <td>4.125000</td>\n",
       "      <td>4.200000</td>\n",
       "      <td>0.000000</td>\n",
       "      <td>2.750000</td>\n",
       "    </tr>\n",
       "    <tr>\n",
       "      <th>75%</th>\n",
       "      <td>5.800000</td>\n",
       "      <td>7.600000</td>\n",
       "      <td>6.562500</td>\n",
       "      <td>7.600000</td>\n",
       "      <td>4.700000</td>\n",
       "      <td>5.675000</td>\n",
       "    </tr>\n",
       "    <tr>\n",
       "      <th>max</th>\n",
       "      <td>7.400000</td>\n",
       "      <td>10.400000</td>\n",
       "      <td>9.250000</td>\n",
       "      <td>10.400000</td>\n",
       "      <td>10.500000</td>\n",
       "      <td>10.050000</td>\n",
       "    </tr>\n",
       "  </tbody>\n",
       "</table>\n",
       "</div>"
      ],
      "text/plain": [
       "              P1  P1_com_teste  P1_sem_teste  P1_maior_nota         P2  \\\n",
       "count  44.000000     71.000000     71.000000      71.000000  71.000000   \n",
       "mean    4.568182      4.011268      3.538732       4.156338   2.512676   \n",
       "std     1.840219      3.627929      3.323321       3.668636   3.208156   \n",
       "min     0.000000      0.000000      0.000000       0.000000   0.000000   \n",
       "25%     3.550000      0.000000      0.000000       0.000000   0.000000   \n",
       "50%     4.950000      3.600000      4.125000       4.200000   0.000000   \n",
       "75%     5.800000      7.600000      6.562500       7.600000   4.700000   \n",
       "max     7.400000     10.400000      9.250000      10.400000  10.500000   \n",
       "\n",
       "              MF  \n",
       "count  71.000000  \n",
       "mean    3.334507  \n",
       "std     3.214442  \n",
       "min     0.000000  \n",
       "25%     0.000000  \n",
       "50%     2.750000  \n",
       "75%     5.675000  \n",
       "max    10.050000  "
      ]
     },
     "execution_count": 4,
     "metadata": {},
     "output_type": "execute_result"
    }
   ],
   "source": [
    "provas.loc[:, 'P1':'MF'].describe()"
   ]
  },
  {
   "cell_type": "markdown",
   "metadata": {},
   "source": [
    "Como se vê, ao final da P2, a média da turma foi de 3,33 e a mediana de 2,75 (isto é, metade da turma tirou abaixo desse valor). O desvio padrão foi de 3,21. Vejamos se o resultado muda consistententemente com a remoção dos desistentes. Considerademos desistentes aqueles que objetiveram 0 nas duas provas."
   ]
  },
  {
   "cell_type": "code",
   "execution_count": 113,
   "metadata": {},
   "outputs": [
    {
     "data": {
      "text/html": [
       "<div>\n",
       "<style scoped>\n",
       "    .dataframe tbody tr th:only-of-type {\n",
       "        vertical-align: middle;\n",
       "    }\n",
       "\n",
       "    .dataframe tbody tr th {\n",
       "        vertical-align: top;\n",
       "    }\n",
       "\n",
       "    .dataframe thead th {\n",
       "        text-align: right;\n",
       "    }\n",
       "</style>\n",
       "<table border=\"1\" class=\"dataframe\">\n",
       "  <thead>\n",
       "    <tr style=\"text-align: right;\">\n",
       "      <th></th>\n",
       "      <th>Teste</th>\n",
       "      <th>P1</th>\n",
       "      <th>P1_com_teste</th>\n",
       "      <th>P1_sem_teste</th>\n",
       "      <th>P1_maior_nota</th>\n",
       "      <th>P2</th>\n",
       "      <th>MF</th>\n",
       "    </tr>\n",
       "  </thead>\n",
       "  <tbody>\n",
       "    <tr>\n",
       "      <th>count</th>\n",
       "      <td>30.000000</td>\n",
       "      <td>33.000000</td>\n",
       "      <td>33.000000</td>\n",
       "      <td>33.000000</td>\n",
       "      <td>33.000000</td>\n",
       "      <td>33.000000</td>\n",
       "      <td>33.000000</td>\n",
       "    </tr>\n",
       "    <tr>\n",
       "      <th>mean</th>\n",
       "      <td>2.400000</td>\n",
       "      <td>4.821212</td>\n",
       "      <td>7.003030</td>\n",
       "      <td>6.026515</td>\n",
       "      <td>7.096970</td>\n",
       "      <td>5.406061</td>\n",
       "      <td>6.251515</td>\n",
       "    </tr>\n",
       "    <tr>\n",
       "      <th>std</th>\n",
       "      <td>0.602867</td>\n",
       "      <td>1.695538</td>\n",
       "      <td>2.221695</td>\n",
       "      <td>2.119422</td>\n",
       "      <td>2.128157</td>\n",
       "      <td>2.526601</td>\n",
       "      <td>2.035908</td>\n",
       "    </tr>\n",
       "    <tr>\n",
       "      <th>min</th>\n",
       "      <td>1.100000</td>\n",
       "      <td>0.000000</td>\n",
       "      <td>1.100000</td>\n",
       "      <td>0.000000</td>\n",
       "      <td>1.100000</td>\n",
       "      <td>0.200000</td>\n",
       "      <td>0.650000</td>\n",
       "    </tr>\n",
       "    <tr>\n",
       "      <th>25%</th>\n",
       "      <td>1.800000</td>\n",
       "      <td>4.100000</td>\n",
       "      <td>6.100000</td>\n",
       "      <td>5.125000</td>\n",
       "      <td>6.400000</td>\n",
       "      <td>3.800000</td>\n",
       "      <td>5.200000</td>\n",
       "    </tr>\n",
       "    <tr>\n",
       "      <th>50%</th>\n",
       "      <td>2.600000</td>\n",
       "      <td>5.200000</td>\n",
       "      <td>7.600000</td>\n",
       "      <td>6.500000</td>\n",
       "      <td>7.600000</td>\n",
       "      <td>4.900000</td>\n",
       "      <td>5.800000</td>\n",
       "    </tr>\n",
       "    <tr>\n",
       "      <th>75%</th>\n",
       "      <td>2.900000</td>\n",
       "      <td>5.800000</td>\n",
       "      <td>8.300000</td>\n",
       "      <td>7.250000</td>\n",
       "      <td>8.300000</td>\n",
       "      <td>7.500000</td>\n",
       "      <td>7.550000</td>\n",
       "    </tr>\n",
       "    <tr>\n",
       "      <th>max</th>\n",
       "      <td>3.000000</td>\n",
       "      <td>7.400000</td>\n",
       "      <td>10.400000</td>\n",
       "      <td>9.250000</td>\n",
       "      <td>10.400000</td>\n",
       "      <td>10.500000</td>\n",
       "      <td>10.050000</td>\n",
       "    </tr>\n",
       "  </tbody>\n",
       "</table>\n",
       "</div>"
      ],
      "text/plain": [
       "           Teste         P1  P1_com_teste  P1_sem_teste  P1_maior_nota  \\\n",
       "count  30.000000  33.000000     33.000000     33.000000      33.000000   \n",
       "mean    2.400000   4.821212      7.003030      6.026515       7.096970   \n",
       "std     0.602867   1.695538      2.221695      2.119422       2.128157   \n",
       "min     1.100000   0.000000      1.100000      0.000000       1.100000   \n",
       "25%     1.800000   4.100000      6.100000      5.125000       6.400000   \n",
       "50%     2.600000   5.200000      7.600000      6.500000       7.600000   \n",
       "75%     2.900000   5.800000      8.300000      7.250000       8.300000   \n",
       "max     3.000000   7.400000     10.400000      9.250000      10.400000   \n",
       "\n",
       "              P2         MF  \n",
       "count  33.000000  33.000000  \n",
       "mean    5.406061   6.251515  \n",
       "std     2.526601   2.035908  \n",
       "min     0.200000   0.650000  \n",
       "25%     3.800000   5.200000  \n",
       "50%     4.900000   5.800000  \n",
       "75%     7.500000   7.550000  \n",
       "max    10.500000  10.050000  "
      ]
     },
     "execution_count": 113,
     "metadata": {},
     "output_type": "execute_result"
    }
   ],
   "source": [
    "provas_guerra = provas.query('(P1_com_teste != \"0\" & P2 != \"0\")')\n",
    "provas_guerra.drop(columns=['DRE']).describe()"
   ]
  },
  {
   "cell_type": "markdown",
   "metadata": {},
   "source": [
    "A média subiu para 6,25 e o desvio padrão caiu para 2,04! Definitivamente, estávamos em um cenário enganador. Prossigamos eliminando os desistentes."
   ]
  },
  {
   "cell_type": "code",
   "execution_count": 95,
   "metadata": {},
   "outputs": [
    {
     "data": {
      "text/plain": [
       "(17, 0.5151515151515151, 1, 0.030303030303030304)"
      ]
     },
     "execution_count": 95,
     "metadata": {},
     "output_type": "execute_result"
    }
   ],
   "source": [
    "banco_P3 = 0\n",
    "banco_rep = 0\n",
    "for e in provas_guerra['MF'].sort_values():\n",
    "    if e < 6:\n",
    "        banco_P3 += 1\n",
    "    if e < 3:\n",
    "        banco_rep +=1\n",
    "        \n",
    "(banco_P3, banco_P3/len(provas_guerra), banco_rep, banco_rep/len(provas_guerra))"
   ]
  },
  {
   "cell_type": "markdown",
   "metadata": {},
   "source": [
    "Aproximadamente 51% da turma está abaixo da média, isto é, é de interesse que recorram à P3. Somente 3% (um único aluno), contudo, estaria diretamente reprovado pelos padrões da UFRJ por obter média inferior a 3. Resta saber o quanto o resultado da P3 mudará o quadro. Seguem abaixo os gráficos abaixo da P1, P2 e média final. "
   ]
  },
  {
   "cell_type": "code",
   "execution_count": 111,
   "metadata": {},
   "outputs": [
    {
     "data": {
      "image/png": "[encoded data removed]",
      "text/plain": [
       "<matplotlib.figure.Figure at 0x1fba7856908>"
      ]
     },
     "metadata": {},
     "output_type": "display_data"
    },
    {
     "data": {
      "image/png": "[encoded data removed]",
      "text/plain": [
       "<matplotlib.figure.Figure at 0x1fba626ecc0>"
      ]
     },
     "metadata": {},
     "output_type": "display_data"
    },
    {
     "data": {
      "image/png": "[encoded data removed]",
      "text/plain": [
       "<matplotlib.figure.Figure at 0x1fba62aae10>"
      ]
     },
     "metadata": {},
     "output_type": "display_data"
    }
   ],
   "source": [
    "provas_guerra.plot(kind='hist', x='DRE', y='P1_maior_nota', color = 'g', bins=range(0, 12))\n",
    "plt.title('P1')\n",
    "plt.xlabel('Notas')\n",
    "plt.ylabel('Quantidade de alunos')\n",
    "plt.legend('')\n",
    "provas_guerra.plot(kind='hist', x='DRE', y='P2', color = 'b', bins=range(0, 12))\n",
    "plt.title('P2')\n",
    "plt.xlabel('Notas')\n",
    "plt.ylabel('Quantidade de alunos')\n",
    "plt.legend('')\n",
    "provas_guerra.plot(kind='hist', x='DRE', y='MF', color = 'r', bins=range(0, 12))\n",
    "plt.title('Média final')\n",
    "plt.xlabel('Notas')\n",
    "plt.ylabel('Quantidade de alunos')\n",
    "plt.legend('')\n",
    "plt.show()"
   ]
  },
  {
   "cell_type": "markdown",
   "metadata": {},
   "source": [
    "A comparação torna-se mais fácil com o uso de um gráfico de densidade. Percebemos de início que não houve \"arredondamento para a média\" considerável, algo comumente registrado. A P1 (curva verde) e a P2 (curva azul) tiveram resultados um pouco divergentes: naquela os alunos foram melhor, com média próxima de 8 e baixo desvio. A P2, em contraste, teve média perto de 4 e um desvio mais acentuado, principalmente para as notas maiores — as curvas se assemelham a uma normal: nesse sentido, a calda direita da P2 é mais pesada que a da P1."
   ]
  },
  {
   "cell_type": "code",
   "execution_count": 38,
   "metadata": {},
   "outputs": [
    {
     "data": {
      "image/png": "[encoded data removed]",
      "text/plain": [
       "<matplotlib.figure.Figure at 0x1fba617e828>"
      ]
     },
     "metadata": {},
     "output_type": "display_data"
    }
   ],
   "source": [
    "fig, ax = plt.subplots(figsize=(8,6))\n",
    "sns.distplot(provas_guerra['P1_maior_nota'], color='g', hist=False)\n",
    "sns.distplot(provas_guerra['P2'], color=\"b\", hist=False)\n",
    "sns.distplot(provas_guerra['MF'], color=\"r\", hist=False)\n",
    "plt.xlim(0, 10)\n",
    "plt.ylim(0, 0.3)\n",
    "plt.xlabel('Média Final')\n",
    "plt.ylabel('Densidade')\n",
    "plt.show()"
   ]
  }
 ],
 "metadata": {
  "kernelspec": {
   "display_name": "Python 3",
   "language": "python",
   "name": "python3"
  },
  "language_info": {
   "codemirror_mode": {
    "name": "ipython",
    "version": 3
   },
   "file_extension": ".py",
   "mimetype": "text/x-python",
   "name": "python",
   "nbconvert_exporter": "python",
   "pygments_lexer": "ipython3",
   "version": "3.6.3"
  }
 },
 "nbformat": 4,
 "nbformat_minor": 2
}
