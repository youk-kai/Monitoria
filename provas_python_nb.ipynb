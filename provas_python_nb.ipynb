{
 "cells": [
  {
   "cell_type": "code",
   "execution_count": 2,
   "metadata": {
    "collapsed": true
   },
   "outputs": [],
   "source": [
    "import pandas as pd, matplotlib.pyplot as plt\n",
    "%matplotlib inline\n",
    "import seaborn as sns"
   ]
  },
  {
   "cell_type": "code",
   "execution_count": 3,
   "metadata": {},
   "outputs": [
    {
     "data": {
      "text/html": [
       "<div>\n",
       "<style scoped>\n",
       "    .dataframe tbody tr th:only-of-type {\n",
       "        vertical-align: middle;\n",
       "    }\n",
       "\n",
       "    .dataframe tbody tr th {\n",
       "        vertical-align: top;\n",
       "    }\n",
       "\n",
       "    .dataframe thead th {\n",
       "        text-align: right;\n",
       "    }\n",
       "</style>\n",
       "<table border=\"1\" class=\"dataframe\">\n",
       "  <thead>\n",
       "    <tr style=\"text-align: right;\">\n",
       "      <th></th>\n",
       "      <th>DRE</th>\n",
       "      <th>Teste</th>\n",
       "      <th>P1</th>\n",
       "      <th>P1_com_teste</th>\n",
       "      <th>P1_sem_teste</th>\n",
       "      <th>P1_maior_nota</th>\n",
       "      <th>P2</th>\n",
       "      <th>MF</th>\n",
       "      <th>sit</th>\n",
       "    </tr>\n",
       "  </thead>\n",
       "  <tbody>\n",
       "    <tr>\n",
       "      <th>0</th>\n",
       "      <td>116078290</td>\n",
       "      <td>3.0</td>\n",
       "      <td>4.1</td>\n",
       "      <td>7.1</td>\n",
       "      <td>5.125</td>\n",
       "      <td>7.1</td>\n",
       "      <td>4.0</td>\n",
       "      <td>5.55</td>\n",
       "      <td>Prova Final</td>\n",
       "    </tr>\n",
       "    <tr>\n",
       "      <th>1</th>\n",
       "      <td>118168669</td>\n",
       "      <td>2.6</td>\n",
       "      <td>5.6</td>\n",
       "      <td>8.2</td>\n",
       "      <td>7.000</td>\n",
       "      <td>8.2</td>\n",
       "      <td>6.6</td>\n",
       "      <td>7.40</td>\n",
       "      <td>Aprovado</td>\n",
       "    </tr>\n",
       "    <tr>\n",
       "      <th>2</th>\n",
       "      <td>118144843</td>\n",
       "      <td>3.0</td>\n",
       "      <td>4.8</td>\n",
       "      <td>7.8</td>\n",
       "      <td>6.000</td>\n",
       "      <td>7.8</td>\n",
       "      <td>7.9</td>\n",
       "      <td>7.85</td>\n",
       "      <td>Aprovado</td>\n",
       "    </tr>\n",
       "    <tr>\n",
       "      <th>3</th>\n",
       "      <td>118187663</td>\n",
       "      <td>2.5</td>\n",
       "      <td>5.2</td>\n",
       "      <td>7.7</td>\n",
       "      <td>6.500</td>\n",
       "      <td>7.7</td>\n",
       "      <td>8.2</td>\n",
       "      <td>7.95</td>\n",
       "      <td>Aprovado</td>\n",
       "    </tr>\n",
       "    <tr>\n",
       "      <th>4</th>\n",
       "      <td>118145297</td>\n",
       "      <td>1.3</td>\n",
       "      <td>2.9</td>\n",
       "      <td>4.2</td>\n",
       "      <td>3.625</td>\n",
       "      <td>4.2</td>\n",
       "      <td>5.3</td>\n",
       "      <td>4.75</td>\n",
       "      <td>Prova Final</td>\n",
       "    </tr>\n",
       "  </tbody>\n",
       "</table>\n",
       "</div>"
      ],
      "text/plain": [
       "         DRE  Teste   P1  P1_com_teste  P1_sem_teste  P1_maior_nota   P2  \\\n",
       "0  116078290    3.0  4.1           7.1         5.125            7.1  4.0   \n",
       "1  118168669    2.6  5.6           8.2         7.000            8.2  6.6   \n",
       "2  118144843    3.0  4.8           7.8         6.000            7.8  7.9   \n",
       "3  118187663    2.5  5.2           7.7         6.500            7.7  8.2   \n",
       "4  118145297    1.3  2.9           4.2         3.625            4.2  5.3   \n",
       "\n",
       "     MF          sit  \n",
       "0  5.55  Prova Final  \n",
       "1  7.40     Aprovado  \n",
       "2  7.85     Aprovado  \n",
       "3  7.95     Aprovado  \n",
       "4  4.75  Prova Final  "
      ]
     },
     "execution_count": 3,
     "metadata": {},
     "output_type": "execute_result"
    }
   ],
   "source": [
    "provas = pd.read_excel('provas.xlsx').reset_index().drop(columns={'level_0', 'level_1'})\n",
    "provas.head()"
   ]
  },
  {
   "cell_type": "markdown",
   "metadata": {},
   "source": [
    "A organização do dataframe é a acima. Não incluimos aqui a P3, ainda não realizada. Analisemos alguns de seus dados."
   ]
  },
  {
   "cell_type": "code",
   "execution_count": 4,
   "metadata": {},
   "outputs": [
    {
     "data": {
      "text/html": [
       "<div>\n",
       "<style scoped>\n",
       "    .dataframe tbody tr th:only-of-type {\n",
       "        vertical-align: middle;\n",
       "    }\n",
       "\n",
       "    .dataframe tbody tr th {\n",
       "        vertical-align: top;\n",
       "    }\n",
       "\n",
       "    .dataframe thead th {\n",
       "        text-align: right;\n",
       "    }\n",
       "</style>\n",
       "<table border=\"1\" class=\"dataframe\">\n",
       "  <thead>\n",
       "    <tr style=\"text-align: right;\">\n",
       "      <th></th>\n",
       "      <th>P1</th>\n",
       "      <th>P1_com_teste</th>\n",
       "      <th>P1_sem_teste</th>\n",
       "      <th>P1_maior_nota</th>\n",
       "      <th>P2</th>\n",
       "      <th>MF</th>\n",
       "    </tr>\n",
       "  </thead>\n",
       "  <tbody>\n",
       "    <tr>\n",
       "      <th>count</th>\n",
       "      <td>44.000000</td>\n",
       "      <td>71.000000</td>\n",
       "      <td>71.000000</td>\n",
       "      <td>71.000000</td>\n",
       "      <td>71.000000</td>\n",
       "      <td>71.000000</td>\n",
       "    </tr>\n",
       "    <tr>\n",
       "      <th>mean</th>\n",
       "      <td>4.568182</td>\n",
       "      <td>4.011268</td>\n",
       "      <td>3.538732</td>\n",
       "      <td>4.156338</td>\n",
       "      <td>2.512676</td>\n",
       "      <td>3.334507</td>\n",
       "    </tr>\n",
       "    <tr>\n",
       "      <th>std</th>\n",
       "      <td>1.840219</td>\n",
       "      <td>3.627929</td>\n",
       "      <td>3.323321</td>\n",
       "      <td>3.668636</td>\n",
       "      <td>3.208156</td>\n",
       "      <td>3.214442</td>\n",
       "    </tr>\n",
       "    <tr>\n",
       "      <th>min</th>\n",
       "      <td>0.000000</td>\n",
       "      <td>0.000000</td>\n",
       "      <td>0.000000</td>\n",
       "      <td>0.000000</td>\n",
       "      <td>0.000000</td>\n",
       "      <td>0.000000</td>\n",
       "    </tr>\n",
       "    <tr>\n",
       "      <th>25%</th>\n",
       "      <td>3.550000</td>\n",
       "      <td>0.000000</td>\n",
       "      <td>0.000000</td>\n",
       "      <td>0.000000</td>\n",
       "      <td>0.000000</td>\n",
       "      <td>0.000000</td>\n",
       "    </tr>\n",
       "    <tr>\n",
       "      <th>50%</th>\n",
       "      <td>4.950000</td>\n",
       "      <td>3.600000</td>\n",
       "      <td>4.125000</td>\n",
       "      <td>4.200000</td>\n",
       "      <td>0.000000</td>\n",
       "      <td>2.750000</td>\n",
       "    </tr>\n",
       "    <tr>\n",
       "      <th>75%</th>\n",
       "      <td>5.800000</td>\n",
       "      <td>7.600000</td>\n",
       "      <td>6.562500</td>\n",
       "      <td>7.600000</td>\n",
       "      <td>4.700000</td>\n",
       "      <td>5.675000</td>\n",
       "    </tr>\n",
       "    <tr>\n",
       "      <th>max</th>\n",
       "      <td>7.400000</td>\n",
       "      <td>10.400000</td>\n",
       "      <td>9.250000</td>\n",
       "      <td>10.400000</td>\n",
       "      <td>10.500000</td>\n",
       "      <td>10.050000</td>\n",
       "    </tr>\n",
       "  </tbody>\n",
       "</table>\n",
       "</div>"
      ],
      "text/plain": [
       "              P1  P1_com_teste  P1_sem_teste  P1_maior_nota         P2  \\\n",
       "count  44.000000     71.000000     71.000000      71.000000  71.000000   \n",
       "mean    4.568182      4.011268      3.538732       4.156338   2.512676   \n",
       "std     1.840219      3.627929      3.323321       3.668636   3.208156   \n",
       "min     0.000000      0.000000      0.000000       0.000000   0.000000   \n",
       "25%     3.550000      0.000000      0.000000       0.000000   0.000000   \n",
       "50%     4.950000      3.600000      4.125000       4.200000   0.000000   \n",
       "75%     5.800000      7.600000      6.562500       7.600000   4.700000   \n",
       "max     7.400000     10.400000      9.250000      10.400000  10.500000   \n",
       "\n",
       "              MF  \n",
       "count  71.000000  \n",
       "mean    3.334507  \n",
       "std     3.214442  \n",
       "min     0.000000  \n",
       "25%     0.000000  \n",
       "50%     2.750000  \n",
       "75%     5.675000  \n",
       "max    10.050000  "
      ]
     },
     "execution_count": 4,
     "metadata": {},
     "output_type": "execute_result"
    }
   ],
   "source": [
    "provas.loc[:, 'P1':'MF'].describe()"
   ]
  },
  {
   "cell_type": "markdown",
   "metadata": {},
   "source": [
    "Como se vê, ao final da P2, a média da turma foi de 3,33 e a mediana de 2,75 (isto é, metade da turma tirou abaixo desse valor). O desvio padrão foi de 3,21. Vejamos se o resultado muda 
    stententemente com a remoção dos desistentes. Consideraremos desistentes aqueles que objetiveram 0 nas duas provas."
   ]
  },
  {
   "cell_type": "code",
   "execution_count": 113,
   "metadata": {},
   "outputs": [
    {
     "data": {
      "text/html": [
       "<div>\n",
       "<style scoped>\n",
       "    .dataframe tbody tr th:only-of-type {\n",
       "        vertical-align: middle;\n",
       "    }\n",
       "\n",
       "    .dataframe tbody tr th {\n",
       "        vertical-align: top;\n",
       "    }\n",
       "\n",
       "    .dataframe thead th {\n",
       "        text-align: right;\n",
       "    }\n",
       "</style>\n",
       "<table border=\"1\" class=\"dataframe\">\n",
       "  <thead>\n",
       "    <tr style=\"text-align: right;\">\n",
       "      <th></th>\n",
       "      <th>Teste</th>\n",
       "      <th>P1</th>\n",
       "      <th>P1_com_teste</th>\n",
       "      <th>P1_sem_teste</th>\n",
       "      <th>P1_maior_nota</th>\n",
       "      <th>P2</th>\n",
       "      <th>MF</th>\n",
       "    </tr>\n",
       "  </thead>\n",
       "  <tbody>\n",
       "    <tr>\n",
       "      <th>count</th>\n",
       "      <td>30.000000</td>\n",
       "      <td>33.000000</td>\n",
       "      <td>33.000000</td>\n",
       "      <td>33.000000</td>\n",
       "      <td>33.000000</td>\n",
       "      <td>33.000000</td>\n",
       "      <td>33.000000</td>\n",
       "    </tr>\n",
       "    <tr>\n",
       "      <th>mean</th>\n",
       "      <td>2.400000</td>\n",
       "      <td>4.821212</td>\n",
       "      <td>7.003030</td>\n",
       "      <td>6.026515</td>\n",
       "      <td>7.096970</td>\n",
       "      <td>5.406061</td>\n",
       "      <td>6.251515</td>\n",
       "    </tr>\n",
       "    <tr>\n",
       "      <th>std</th>\n",
       "      <td>0.602867</td>\n",
       "      <td>1.695538</td>\n",
       "      <td>2.221695</td>\n",
       "      <td>2.119422</td>\n",
       "      <td>2.128157</td>\n",
       "      <td>2.526601</td>\n",
       "      <td>2.035908</td>\n",
       "    </tr>\n",
       "    <tr>\n",
       "      <th>min</th>\n",
       "      <td>1.100000</td>\n",
       "      <td>0.000000</td>\n",
       "      <td>1.100000</td>\n",
       "      <td>0.000000</td>\n",
       "      <td>1.100000</td>\n",
       "      <td>0.200000</td>\n",
       "      <td>0.650000</td>\n",
       "    </tr>\n",
       "    <tr>\n",
       "      <th>25%</th>\n",
       "      <td>1.800000</td>\n",
       "      <td>4.100000</td>\n",
       "      <td>6.100000</td>\n",
       "      <td>5.125000</td>\n",
       "      <td>6.400000</td>\n",
       "      <td>3.800000</td>\n",
       "      <td>5.200000</td>\n",
       "    </tr>\n",
       "    <tr>\n",
       "      <th>50%</th>\n",
       "      <td>2.600000</td>\n",
       "      <td>5.200000</td>\n",
       "      <td>7.600000</td>\n",
       "      <td>6.500000</td>\n",
       "      <td>7.600000</td>\n",
       "      <td>4.900000</td>\n",
       "      <td>5.800000</td>\n",
       "    </tr>\n",
       "    <tr>\n",
       "      <th>75%</th>\n",
       "      <td>2.900000</td>\n",
       "      <td>5.800000</td>\n",
       "      <td>8.300000</td>\n",
       "      <td>7.250000</td>\n",
       "      <td>8.300000</td>\n",
       "      <td>7.500000</td>\n",
       "      <td>7.550000</td>\n",
       "    </tr>\n",
       "    <tr>\n",
       "      <th>max</th>\n",
       "      <td>3.000000</td>\n",
       "      <td>7.400000</td>\n",
       "      <td>10.400000</td>\n",
       "      <td>9.250000</td>\n",
       "      <td>10.400000</td>\n",
       "      <td>10.500000</td>\n",
       "      <td>10.050000</td>\n",
       "    </tr>\n",
       "  </tbody>\n",
       "</table>\n",
       "</div>"
      ],
      "text/plain": [
       "           Teste         P1  P1_com_teste  P1_sem_teste  P1_maior_nota  \\\n",
       "count  30.000000  33.000000     33.000000     33.000000      33.000000   \n",
       "mean    2.400000   4.821212      7.003030      6.026515       7.096970   \n",
       "std     0.602867   1.695538      2.221695      2.119422       2.128157   \n",
       "min     1.100000   0.000000      1.100000      0.000000       1.100000   \n",
       "25%     1.800000   4.100000      6.100000      5.125000       6.400000   \n",
       "50%     2.600000   5.200000      7.600000      6.500000       7.600000   \n",
       "75%     2.900000   5.800000      8.300000      7.250000       8.300000   \n",
       "max     3.000000   7.400000     10.400000      9.250000      10.400000   \n",
       "\n",
       "              P2         MF  \n",
       "count  33.000000  33.000000  \n",
       "mean    5.406061   6.251515  \n",
       "std     2.526601   2.035908  \n",
       "min     0.200000   0.650000  \n",
       "25%     3.800000   5.200000  \n",
       "50%     4.900000   5.800000  \n",
       "75%     7.500000   7.550000  \n",
       "max    10.500000  10.050000  "
      ]
     },
     "execution_count": 113,
     "metadata": {},
     "output_type": "execute_result"
    }
   ],
   "source": [
    "provas_guerra = provas.query('(P1_com_teste != \"0\" & P2 != \"0\")')\n",
    "provas_guerra.drop(columns=['DRE']).describe()"
   ]
  },
  {
   "cell_type": "markdown",
   "metadata": {},
   "source": [
    "A média subiu para 6,25 e o desvio padrão caiu para 2,04! Definitivamente, estávamos em um cenário enganador. Prossigamos eliminando os desistentes."
   ]
  },
  {
   "cell_type": "code",
   "execution_count": 95,
   "metadata": {},
   "outputs": [
    {
     "data": {
      "text/plain": [
       "(17, 0.5151515151515151, 1, 0.030303030303030304)"
      ]
     },
     "execution_count": 95,
     "metadata": {},
     "output_type": "execute_result"
    }
   ],
   "source": [
    "banco_P3 = 0\n",
    "banco_rep = 0\n",
    "for e in provas_guerra['MF'].sort_values():\n",
    "    if e < 6:\n",
    "        banco_P3 += 1\n",
    "    if e < 3:\n",
    "        banco_rep +=1\n",
    "        \n",
    "(banco_P3, banco_P3/len(provas_guerra), banco_rep, banco_rep/len(provas_guerra))"
   ]
  },
  {
   "cell_type": "markdown",
   "metadata": {},
   "source": [
    "Aproximadamente 51% da turma está abaixo da média, isto é, é de interesse que recorram à P3. Somente 3% (um único aluno), contudo, estaria diretamente reprovado pelos padrões da UFRJ por obter média inferior a 3. Resta saber o quanto o resultado da P3 mudará o quadro. Seguem abaixo os gráficos da P1, P2 e média final. "
   ]
  },
  {
   "cell_type": "code",
   "execution_count": 111,
   "metadata": {},
   "outputs": [
    {
     "data": {
      "image/png": "[encoded data removed]",
      "text/plain": [
       "<matplotlib.figure.Figure at 0x1fba7856908>"
      ]
     },
     "metadata": {},
     "output_type": "display_data"
    },
    {
     "data": {
      "image/png": "[encoded data removed]",
      "text/plain": [
       "<matplotlib.figure.Figure at 0x1fba626ecc0>"
      ]
     },
     "metadata": {},
     "output_type": "display_data"
    },
    {
     "data": {
      "image/png": "[encoded data removed]",
      "text/plain": [
       "<matplotlib.figure.Figure at 0x1fba62aae10>"
      ]
     },
     "metadata": {},
     "output_type": "display_data"
    }
   ],
   "source": [
    "provas_guerra.plot(kind='hist', x='DRE', y='P1_maior_nota', color = 'g', bins=range(0, 12))\n",
    "plt.title('P1')\n",
    "plt.xlabel('Notas')\n",
    "plt.ylabel('Quantidade de alunos')\n",
    "plt.legend('')\n",
    "provas_guerra.plot(kind='hist', x='DRE', y='P2', color = 'b', bins=range(0, 12))\n",
    "plt.title('P2')\n",
    "plt.xlabel('Notas')\n",
    "plt.ylabel('Quantidade de alunos')\n",
    "plt.legend('')\n",
    "provas_guerra.plot(kind='hist', x='DRE', y='MF', color = 'r', bins=range(0, 12))\n",
    "plt.title('Média final')\n",
    "plt.xlabel('Notas')\n",
    "plt.ylabel('Quantidade de alunos')\n",
    "plt.legend('')\n",
    "plt.show()"
   ]
  },
  {
   "cell_type": "markdown",
   "metadata": {},
   "source": [
    "A comparação torna-se mais fácil com o uso de um gráfico de densidade. Percebemos de início que não houve \"arredondamento para a média\" considerável, algo comumente registrado. A P1 (curva verde) e a P2 (curva azul) tiveram resultados um pouco divergentes: naquela os alunos foram melhor, com média próxima de 8 e baixo desvio. A P2, em contraste, teve média perto de 4 e um desvio mais acentuado, principalmente para as notas maiores — as curvas se assemelham a uma normal: nesse sentido, a calda direita da P2 é mais pesada que a da P1."
   ]
  },
  {
   "cell_type": "code",
   "execution_count": 38,
   "metadata": {},
   "outputs": [
    {
     "data": {
      "image/png": "iVBORw0KGgoAAAANSUhEUgAAAf4AAAF3CAYAAABE0Ck1AAAABHNCSVQICAgIfAhkiAAAAAlwSFlz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%0AAAAAAElFTkSuQmCC\n",
      "text/plain": [
       "<matplotlib.figure.Figure at 0x1fba617e828>"
      ]
     },
     "metadata": {},
     "output_type": "display_data"
    }
   ],
   "source": [
    "fig, ax = plt.subplots(figsize=(8,6))\n",
    "sns.distplot(provas_guerra['P1_maior_nota'], color='g', hist=False)\n",
    "sns.distplot(provas_guerra['P2'], color=\"b\", hist=False)\n",
    "sns.distplot(provas_guerra['MF'], color=\"r\", hist=False)\n",
    "plt.xlim(0, 10)\n",
    "plt.ylim(0, 0.3)\n",
    "plt.xlabel('Notas')\n",
    "plt.ylabel('Densidade')\n",
    "plt.show()"
   ]
  }
 ],
 "metadata": {
  "kernelspec": {
   "display_name": "Python 3",
   "language": "python",
   "name": "python3"
  },
  "language_info": {
   "codemirror_mode": {
    "name": "ipython",
    "version": 3
   },
   "file_extension": ".py",
   "mimetype": "text/x-python",
   "name": "python",
   "nbconvert_exporter": "python",
   "pygments_lexer": "ipython3",
   "version": "3.6.3"
  }
 },
 "nbformat": 4,
 "nbformat_minor": 2
}
